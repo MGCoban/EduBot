{
  "nbformat": 4,
  "nbformat_minor": 0,
  "metadata": {
    "colab": {
      "provenance": []
    },
    "kernelspec": {
      "name": "python3",
      "display_name": "Python 3"
    },
    "language_info": {
      "name": "python"
    }
  },
  "cells": [
    {
      "cell_type": "code",
      "execution_count": null,
      "metadata": {
        "id": "_iTFWJijKZL2",
        "colab": {
          "base_uri": "https://localhost:8080/",
          "height": 69
        },
        "outputId": "f2a3ebbd-536a-4b53-e898-c4766ac3f3ef"
      },
      "outputs": [
        {
          "output_type": "stream",
          "name": "stdout",
          "text": [
            "Tuned model oluşturuldu: tunedModels/number-predictor-model-flash-tuned18\n",
            "Tuned Model ID: tunedModels/number-predictor-model-flash-tuned18\n",
            "Data Science, verileri kullanarak dünyayı anlamak ve sorunları çözmek için hesap\n"
          ]
        }
      ],
      "source": [
        "from google.colab import userdata\n",
        "import google.generativeai as genai\n",
        "import random\n",
        "\n",
        "# API anahtarınızı yapılandırın\n",
        "api_key = userdata.get(\"anahtar\")  # veya gizli anahtarınızın adı\n",
        "genai.configure(api_key=api_key)\n",
        "\n",
        "# Temel modeli dinamik olarak bul (Gemini 1.5 Flash)\n",
        "base_model = [\n",
        "    m for m in genai.list_models()\n",
        "    if \"createTunedModel\" in m.supported_generation_methods and\n",
        "    \"flash\" in m.name][0]\n",
        "\n",
        "\n",
        "# Model adı\n",
        "name = \"number-predictor-model-flash-tuned18\"\n",
        "\n",
        "# Eğitim Verileri (örnek olarak, daha fazla veri ekleyebilirsiniz)\n",
        "training_data = [\n",
        "    {'text_input': 'Data Science nedir?', 'output': 'Data Science, veri odaklı hesaplama ve çıkarım odaklı düşüncenin dünyayı anlamak ve sorunları çözmek için kullanılmasıdır.'},\n",
        "    {'text_input': 'Data Scienceın temel elementleri nelerdir?', 'output': 'Data Science, programlama becerileri, matematik/istatistik bilgisi ve konu uzmanlığını kapsar.'},\n",
        "    {'text_input': 'Pythonda NLP için kullanılan kütüphaneler hangileridir?', 'output': 'Pythonda NLP için kullanılan bazı kütüphaneler NLTK ve spaCydir.'},\n",
        "    {'text_input': 'Scikit-learnün makine öğrenmesindeki rolü nedir?', 'output': 'Scikit-learn, sınıflandırma, regresyon, kümeleme gibi makine öğrenmesi algoritmalarını içeren bir Python kütüphanesidir.'},\n",
        "    {'text_input': 'Outlier nedir? Data setlerinde nasıl bir etkisi vardır?', 'output': 'Outlier, diğer verilerden çok farklı olan değerlerdir. Data setlerinde analiz sonuçlarını çarpıtabilir.'},\n",
        "    {'text_input': 'Data augmentation neden yapılır?', 'output': 'Data augmentation, makine öğrenimi modellerinin daha iyi genelleme yapması ve aşırı öğrenmeyi engellemesi için veri setini artırmaya yönelik tekniklerdir.'},\n",
        "    {'text_input': 'Rda text mining için hangi kütüphaneler kullanılır?', 'output': 'Rda text mining için tm ve quanteda kütüphaneleri kullanılabilir.'},\n",
        "    {'text_input': 'Pythonda makine öğrenimi için hangi kütüphaneler kullanılıyor?', 'output': 'Pythonda makine öğrenimi için Scikit-learn, TensorFlow ve PyTorch gibi kütüphaneler yaygın olarak kullanılır.'},\n",
        "    {'text_input': 'Python ve R arasındaki farklar nelerdir?', 'output': 'Python genellikle web uygulamaları ve veritabanı entegrasyonları için kullanılırken, R genellikle akademik analizler için kullanılır.'},\n",
        "    {'text_input': 'Temel matematik ve istatistik bilgisi neden önemlidir?', 'output': 'Data scienceta matematik ve istatistik, veriyi anlamak, model kurmak ve sonuçları yorumlamak için temeldir.'},\n",
        "    {'text_input': 'Ahmet Sayar', 'output': 'KocaeliÜniversitesinde Prof. Dr. olarak çalışmaktadır. CoğrafiBilgiSistemleri,YerküreGözlemleri (UzaktanAlgılama,BilgisayarBilimleri,Algoritmalar,BaşarımModelemesive'},\n",
        "\n",
        "]\n",
        "\n",
        "operation = genai.create_tuned_model(\n",
        "    source_model=base_model.name,\n",
        "    training_data=training_data,\n",
        "    id=name,\n",
        "    epoch_count=10,\n",
        "    batch_size=4,\n",
        "    learning_rate=0.001,\n",
        ")\n",
        "\n",
        "# Tuned modelin oluşmasını bekleyin\n",
        "tuned_model = operation.result()\n",
        "print(f\"Tuned model oluşturuldu: {tuned_model.name}\")\n",
        "\n",
        "# Tuned modelin adını sakla (Tuned Model ID)\n",
        "tuned_model_id = tuned_model.name\n",
        "print(f\"Tuned Model ID: {tuned_model_id}\")\n",
        "\n",
        "\n",
        "#Tuned modeli kullanma\n",
        "tuned_model = genai.GenerativeModel(tuned_model.name)\n",
        "response = tuned_model.generate_content(\"Data Science nedir?\")\n",
        "print(response.text)"
      ]
    },
    {
      "cell_type": "code",
      "source": [
        "from google.colab import userdata\n",
        "import google.generativeai as genai\n",
        "\n",
        "# API anahtarınızı yapılandırın\n",
        "api_key = userdata.get(\"anahtar\")  # veya gizli anahtarınızın adı\n",
        "genai.configure(api_key=api_key)\n",
        "\n",
        "# Daha önce kaydedilen tuned modelin ID'sini girin\n",
        "tuned_model_id = \"tunedModels/number-predictor-model-flash-tuned15\"  # Oluşturduğunuz modelin ID'sini buraya yapıştırın\n",
        "\n",
        " #Tuned modeli kullanma\n",
        "tuned_model = genai.GenerativeModel(tuned_model_id)\n",
        "response = tuned_model.generate_content(\"Ahmet Sayar kimdir\")\n",
        "print(response.text)"
      ],
      "metadata": {
        "id": "E32y5UDvKgKU",
        "colab": {
          "base_uri": "https://localhost:8080/",
          "height": 52
        },
        "outputId": "640a9e49-36fc-48c7-bc69-f6ed675aaf4f"
      },
      "execution_count": null,
      "outputs": [
        {
          "output_type": "stream",
          "name": "stdout",
          "text": [
            "Üzgünüm ama \"Ahmet Sayar\" hakkında herhangi bir bilgi buldum. Ahmet Sayar'ın daha spesifik bilgi paylaşabilir misin? \n",
            "\n"
          ]
        }
      ]
    },
    {
      "cell_type": "code",
      "source": [
        "from google.colab import userdata\n",
        "import google.generativeai as genai\n",
        "\n",
        "# API anahtarınızı yapılandırın\n",
        "api_key = userdata.get(\"anahtar\")  # veya gizli anahtarınızın adı\n",
        "genai.configure(api_key=api_key)\n",
        "\n",
        "# Daha önce kaydedilen tuned modelin ID'sini girin\n",
        "tuned_model_id = \"tunedModels/number-predictor-model-flash-tuned18\"  # Oluşturduğunuz modelin ID'sini buraya yapıştırın\n",
        "\n",
        " #Tuned modeli kullanma\n",
        "tuned_model = genai.GenerativeModel(tuned_model_id)\n",
        "response = tuned_model.generate_content(\"bize türkiyede bilgisayar bilimcisi örnekleri verebilir misin\")\n",
        "print(response.text)"
      ],
      "metadata": {
        "colab": {
          "base_uri": "https://localhost:8080/",
          "height": 34
        },
        "id": "pefP5iQInptr",
        "outputId": "6ccefc44-c342-4d95-a0c8-d6e263a4019c"
      },
      "execution_count": null,
      "outputs": [
        {
          "output_type": "stream",
          "name": "stdout",
          "text": [
            "Prof. Dr. Cem Cemalettin KocaeliÜÜ Bilgisayar Bilimcisi olarak Türkiyede Prof. Dr. Cem Cemalettin KocaeliÜÜ Bilgisayar Bilimcisidir.\n"
          ]
        }
      ]
    },
    {
      "cell_type": "code",
      "source": [
        "from google.colab import userdata, drive\n",
        "import google.generativeai as genai\n",
        "import random\n",
        "import pandas as pd\n",
        "import datetime\n",
        "\n",
        "# Google Drive'ı bağla\n",
        "drive.mount('/content/drive')\n",
        "\n",
        "# API anahtarınızı yapılandırın\n",
        "api_key = userdata.get(\"anahtar\")  # veya gizli anahtarınızın adı\n",
        "genai.configure(api_key=api_key)\n",
        "\n",
        "# Temel modeli dinamik olarak bul (Gemini 1.5 Flash)\n",
        "base_model = [\n",
        "    m for m in genai.list_models()\n",
        "    if \"createTunedModel\" in m.supported_generation_methods and\n",
        "    \"flash\" in m.name][0]\n",
        "\n",
        "\n",
        "# Model adı\n",
        "now = datetime.datetime.now()\n",
        "name = f\"number-predictor-model-flash-tuned70\"\n",
        "\n",
        "\n",
        "# CSV dosyasının yolu\n",
        "csv_file_path = '/content/drive/MyDrive/yukseklisans/veribilimi/Model İnput/499satır.csv'  # CSV dosyasının yolunu buraya girin\n",
        "\n",
        "# CSV dosyasını oku\n",
        "df = pd.read_csv(csv_file_path)\n",
        "\n",
        "# Eğitim verilerini oluştur\n",
        "training_data = []\n",
        "for index, row in df.iterrows():\n",
        "    input_text = str(row['input'])  # Input sütununun adını girin\n",
        "    output_text = str(row['response'])  # Output sütununun adını girin\n",
        "    training_data.append({'text_input': input_text, 'output': output_text})\n",
        "\n",
        "operation = genai.create_tuned_model(\n",
        "    source_model=base_model.name,\n",
        "    training_data=training_data,\n",
        "    id=name,\n",
        "    epoch_count=1,\n",
        "    batch_size=4,\n",
        "    learning_rate=0.001,\n",
        ")\n",
        "\n",
        "tuned_model = operation.result()\n",
        "print(f\"Tuned model oluşturuldu: {tuned_model.name}\")\n",
        "\n",
        "# Tuned modelin adını sakla (Tuned Model ID)\n",
        "tuned_model_id = tuned_model.name\n",
        "print(f\"Tuned Model ID: {tuned_model_id}\")\n",
        "\n",
        "\n",
        "#Tuned modeli kullanma\n",
        "tuned_model = genai.GenerativeModel(tuned_model.name)\n",
        "response = tuned_model.generate_content(\"veri bilimi nedir\")\n",
        "print(response.text)"
      ],
      "metadata": {
        "colab": {
          "base_uri": "https://localhost:8080/",
          "height": 106
        },
        "id": "KJaVYrwbt7S8",
        "outputId": "9dd2db15-be28-45c9-8f58-20020b2a4154"
      },
      "execution_count": null,
      "outputs": [
        {
          "output_type": "stream",
          "name": "stdout",
          "text": [
            "Mounted at /content/drive\n",
            "Tuned model oluşturuldu: tunedModels/number-predictor-model-flash-tuned70\n",
            "Tuned Model ID: tunedModels/number-predictor-model-flash-tuned70\n",
            "Veri bilimi, ham veriyi bilgi ve anlayışa dönüştürmek için analitik ve bilimsel yöntemleri kullanan bir disiplindir. Veri bilimcileri, belirli bir problemi çözmek ve değerli içgörüler ortaya çıkarmak için istatistik, programlama ve veri görselleştirme gibi araçlardan yararlanır.\n"
          ]
        }
      ]
    },
    {
      "cell_type": "code",
      "source": [
        "from google.colab import userdata\n",
        "import google.generativeai as genai\n",
        "\n",
        "# API anahtarınızı yapılandırın\n",
        "api_key = userdata.get(\"anahtar\")  # veya gizli anahtarınızın adı\n",
        "genai.configure(api_key=api_key)\n",
        "\n",
        "# Daha önce kaydedilen tuned modelin ID'sini girin\n",
        "tuned_model_id = \"tunedModels/number-predictor-model-flash-tuned70\"  # Oluşturduğunuz modelin ID'sini buraya yapıştırın\n",
        "\n",
        " #Tuned modeli kullanma\n",
        "tuned_model = genai.GenerativeModel(tuned_model_id)\n",
        "response = tuned_model.generate_content(\"Outlier nedir?\")\n",
        "print(response.text)"
      ],
      "metadata": {
        "colab": {
          "base_uri": "https://localhost:8080/",
          "height": 34
        },
        "id": "Upb-XQnqwZQr",
        "outputId": "a1fcad78-e203-4465-b3ab-ed924c4e69a3"
      },
      "execution_count": null,
      "outputs": [
        {
          "output_type": "stream",
          "name": "stdout",
          "text": [
            "Outlier, veri setindeki diğer verilerden farklı ve ekstrem değerlere sahip olan bir veri noktasıdır. Genellikle hata sonucu, anormal durumlar ya da istisna durumlar sebebiyle oluşur.\n"
          ]
        }
      ]
    }
  ]
}